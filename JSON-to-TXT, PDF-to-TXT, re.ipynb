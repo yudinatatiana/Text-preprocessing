{
 "cells": [
  {
   "cell_type": "markdown",
   "metadata": {},
   "source": [
    "### Подключение библиотек "
   ]
  },
  {
   "cell_type": "code",
   "execution_count": 1,
   "metadata": {},
   "outputs": [
    {
     "name": "stderr",
     "output_type": "stream",
     "text": [
      "/usr/lib/python3.7/site-packages/requests/__init__.py:91: RequestsDependencyWarning: urllib3 (1.24.2) or chardet (2.3.0) doesn't match a supported version!\n",
      "  RequestsDependencyWarning)\n"
     ]
    }
   ],
   "source": [
    "import os\n",
    "import re\n",
    "import io\n",
    "import json\n",
    "from tika import parser"
   ]
  },
  {
   "cell_type": "markdown",
   "metadata": {},
   "source": [
    "### Преобразование json-файлов в txt-для публикации"
   ]
  },
  {
   "cell_type": "code",
   "execution_count": 4,
   "metadata": {},
   "outputs": [],
   "source": [
    "input_path = 'output_files/'\n",
    "output_path = 'output_files_txt/'\n",
    "files = os.listdir(input_path)\n",
    "for file in files:\n",
    "    json_file = open(input_path + '/' + file, \"r\")\n",
    "    loaded_model_json = json_file.read()\n",
    "    json_file.close()\n",
    "    text = json.JSONDecoder().decode(loaded_model_json)\n",
    "    f_name, f_extension = os.path.splitext(file)\n",
    "    f = open(output_path + f_name + '.txt', 'w')\n",
    "    f.write(str(text))\n",
    "    f.close()"
   ]
  },
  {
   "cell_type": "markdown",
   "metadata": {},
   "source": [
    "### Конвертация из pdf в txt"
   ]
  },
  {
   "cell_type": "code",
   "execution_count": null,
   "metadata": {},
   "outputs": [],
   "source": [
    "path = 'Статьи/'\n",
    "all_dirs = os.listdir(path)\n",
    "for one_dir in all_dirs:\n",
    "    new_path = 'Статьи - txt/' + one_dir + '/'\n",
    "    print(new_path)\n",
    "    if os.path.exists(new_path) == False:\n",
    "        os.mkdir(new_path)    \n",
    "    all_files = os.listdir(path + one_dir + '/')\n",
    "    for file in all_files:\n",
    "        raw = parser.from_file(path + one_dir + '/' + file)        \n",
    "        f_name, f_extension = os.path.splitext(file)        \n",
    "        f = open(new_path + f_name + '.txt', 'w')\n",
    "        f.write(raw['content'])\n",
    "        f.close()"
   ]
  },
  {
   "cell_type": "markdown",
   "metadata": {},
   "source": [
    "### Приведение текстов к тому, чтобы их было удобно читать \n",
    "\n",
    "- убираю пробелы в начале новой строки\n",
    "- убираю лишние пустые строки \n",
    "- склеиваю те переносы, которые через одну пустую строку\n",
    "- склеиваю оставшиеся переносы\n",
    "- убираю символы табуляции\n",
    "- убираю лишние пробелы\n",
    "- склеиваю разорванные строки через пустую строку или без неё\n",
    "- удаляю оставшиеся отдельные строки, в которых несколько символов (скорее всего нетекстовая информация)"
   ]
  },
  {
   "cell_type": "code",
   "execution_count": 42,
   "metadata": {},
   "outputs": [],
   "source": [
    "def remove_excess_enters(text):    \n",
    "    text = re.sub('\\\\n +', '\\\\n', text)\n",
    "    text = re.sub('\\\\n(\\\\n)+', '\\\\n\\\\n', text)\n",
    "    text = re.sub('\\-\\\\n\\\\n', '', text)\n",
    "    text = re.sub('\\-\\\\n', '', text)\n",
    "    text = re.sub('\\t', ' ', text)\n",
    "    text = re.sub(' +', ' ', text)    \n",
    "    s1 = re.findall('. ?\\\\n.', text)\n",
    "    for i in s1:\n",
    "        s2 = re.split(r'\\n', i)\n",
    "        s3 = str(str(s2[0]) + ' ' + str(s2[1]))\n",
    "        try:\n",
    "            text = re.sub(i, s3, text)\n",
    "        except:\n",
    "            print('WRONG-1')\n",
    "        \n",
    "    s1 = re.findall('[\\w,;:\"()«»-]{15,} ?\\\\n\\\\n[\\w\"()«»]', text)\n",
    "    for i in s1:\n",
    "        s2 = re.split(r'\\n\\n', i)\n",
    "        s3 = str(str(s2[0]) + ' ' + str(s2[1]))\n",
    "        try:\n",
    "            text = re.sub(i, s3, text)\n",
    "        except:\n",
    "            print('WRONG-2')            \n",
    "    text = re.sub('\\\\n{2}.{,10}\\\\n{2}', '\\\\n\\\\n', text)\n",
    "    return text"
   ]
  },
  {
   "cell_type": "markdown",
   "metadata": {},
   "source": [
    "### Предобработка файлов"
   ]
  },
  {
   "cell_type": "code",
   "execution_count": null,
   "metadata": {
    "scrolled": true
   },
   "outputs": [],
   "source": [
    "path = 'Статьи по языкам/Русский/TXT/'\n",
    "new_path = 'Статьи по языкам/Русский/TXT-предобработка/'\n",
    "\n",
    "if os.path.exists(new_path) == False:\n",
    "    os.mkdir(new_path)  \n",
    "\n",
    "all_dirs = os.listdir(path)\n",
    "for one_dir in all_dirs:\n",
    "    new_path_for_dir = new_path + one_dir + '/'    \n",
    "    if os.path.exists(new_path_for_dir) == False:\n",
    "        os.mkdir(new_path_for_dir)  \n",
    "        \n",
    "    all_files = os.listdir(path + one_dir + '/')\n",
    "    for file in all_files:        \n",
    "        f = open(path + one_dir + '/' + file, 'r')\n",
    "        text = f.read()\n",
    "        f.close()        \n",
    "        text = remove_excess_enters(text)        \n",
    "        f = open(new_path_for_dir + file, 'w')\n",
    "        f.write(text)\n",
    "        f.close()"
   ]
  }
 ],
 "metadata": {
  "kernelspec": {
   "display_name": "Python 3",
   "language": "python",
   "name": "python3"
  },
  "language_info": {
   "codemirror_mode": {
    "name": "ipython",
    "version": 3
   },
   "file_extension": ".py",
   "mimetype": "text/x-python",
   "name": "python",
   "nbconvert_exporter": "python",
   "pygments_lexer": "ipython3",
   "version": "3.7.3"
  }
 },
 "nbformat": 4,
 "nbformat_minor": 2
}
